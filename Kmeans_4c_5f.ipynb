{
 "cells": [
  {
   "cell_type": "code",
   "execution_count": 1,
   "id": "60a4b1c0",
   "metadata": {},
   "outputs": [],
   "source": [
    "import pandas as pd\n",
    "import numpy as np\n",
    "import matplotlib.pyplot as plt\n",
    "import seaborn as sn\n",
    "from sklearn import cluster\n",
    "from sklearn.cluster import KMeans"
   ]
  },
  {
   "cell_type": "code",
   "execution_count": 2,
   "id": "8f3650aa",
   "metadata": {},
   "outputs": [
    {
     "name": "stdout",
     "output_type": "stream",
     "text": [
      "     外送平台   影音娛樂  網路購物  行動支付   超商  Cluster\n",
      "91   1.00   1.17  1.00  1.00  0.0        3\n",
      "116  6.00   1.00  5.29  1.91  6.0        0\n",
      "46   1.00   1.00  1.00  1.09  0.0        3\n",
      "74   0.60   1.35  0.80  2.49  2.0        3\n",
      "9    1.00   1.00  1.00  1.00  0.0        3\n",
      "21   6.50   2.58  5.64  3.23  6.5        0\n",
      "32   3.00  11.33  2.43  2.27  3.0        0\n",
      "75   1.23   2.99  1.34  3.01  2.0        3\n",
      "30   3.80   0.80  2.51  2.55  0.0        3\n",
      "105  0.50   0.08  0.50  0.50  0.0        3\n"
     ]
    },
    {
     "name": "stderr",
     "output_type": "stream",
     "text": [
      "C:\\Users\\Tibame_T14\\anaconda3\\envs\\Credit_cards\\lib\\site-packages\\sklearn\\cluster\\_kmeans.py:870: FutureWarning: The default value of `n_init` will change from 10 to 'auto' in 1.4. Set the value of `n_init` explicitly to suppress the warning\n",
      "  warnings.warn(\n"
     ]
    }
   ],
   "source": [
    "# read-in the excel spreadsheet using pandas \n",
    "df = pd.read_csv(r'credit_card_data_5f.csv')\n",
    "# print(df.head())\n",
    "\n",
    "#create model\n",
    "model = KMeans(n_clusters = 4).fit(df)\n",
    "df['Cluster'] = model.labels_\n",
    "# print(df.sample(10))\n"
   ]
  },
  {
   "cell_type": "code",
   "execution_count": 3,
   "id": "8e7383c5",
   "metadata": {},
   "outputs": [],
   "source": [
    "pd.DataFrame(df).to_csv(r\"kmeans_4c_5f.csv\", index=0, encoding = 'utf-8-sig')"
   ]
  },
  {
   "cell_type": "code",
   "execution_count": 12,
   "id": "2255eeab",
   "metadata": {},
   "outputs": [
    {
     "name": "stderr",
     "output_type": "stream",
     "text": [
      "C:\\Users\\Tibame_T14\\anaconda3\\envs\\Credit_cards\\lib\\site-packages\\sklearn\\cluster\\_kmeans.py:870: FutureWarning: The default value of `n_init` will change from 10 to 'auto' in 1.4. Set the value of `n_init` explicitly to suppress the warning\n",
      "  warnings.warn(\n",
      "C:\\Users\\Tibame_T14\\anaconda3\\envs\\Credit_cards\\lib\\site-packages\\sklearn\\cluster\\_kmeans.py:870: FutureWarning: The default value of `n_init` will change from 10 to 'auto' in 1.4. Set the value of `n_init` explicitly to suppress the warning\n",
      "  warnings.warn(\n",
      "C:\\Users\\Tibame_T14\\anaconda3\\envs\\Credit_cards\\lib\\site-packages\\sklearn\\cluster\\_kmeans.py:870: FutureWarning: The default value of `n_init` will change from 10 to 'auto' in 1.4. Set the value of `n_init` explicitly to suppress the warning\n",
      "  warnings.warn(\n",
      "C:\\Users\\Tibame_T14\\anaconda3\\envs\\Credit_cards\\lib\\site-packages\\sklearn\\cluster\\_kmeans.py:870: FutureWarning: The default value of `n_init` will change from 10 to 'auto' in 1.4. Set the value of `n_init` explicitly to suppress the warning\n",
      "  warnings.warn(\n",
      "C:\\Users\\Tibame_T14\\anaconda3\\envs\\Credit_cards\\lib\\site-packages\\sklearn\\cluster\\_kmeans.py:870: FutureWarning: The default value of `n_init` will change from 10 to 'auto' in 1.4. Set the value of `n_init` explicitly to suppress the warning\n",
      "  warnings.warn(\n",
      "C:\\Users\\Tibame_T14\\anaconda3\\envs\\Credit_cards\\lib\\site-packages\\sklearn\\cluster\\_kmeans.py:870: FutureWarning: The default value of `n_init` will change from 10 to 'auto' in 1.4. Set the value of `n_init` explicitly to suppress the warning\n",
      "  warnings.warn(\n",
      "C:\\Users\\Tibame_T14\\anaconda3\\envs\\Credit_cards\\lib\\site-packages\\sklearn\\cluster\\_kmeans.py:870: FutureWarning: The default value of `n_init` will change from 10 to 'auto' in 1.4. Set the value of `n_init` explicitly to suppress the warning\n",
      "  warnings.warn(\n",
      "C:\\Users\\Tibame_T14\\anaconda3\\envs\\Credit_cards\\lib\\site-packages\\sklearn\\cluster\\_kmeans.py:870: FutureWarning: The default value of `n_init` will change from 10 to 'auto' in 1.4. Set the value of `n_init` explicitly to suppress the warning\n",
      "  warnings.warn(\n",
      "C:\\Users\\Tibame_T14\\anaconda3\\envs\\Credit_cards\\lib\\site-packages\\sklearn\\cluster\\_kmeans.py:870: FutureWarning: The default value of `n_init` will change from 10 to 'auto' in 1.4. Set the value of `n_init` explicitly to suppress the warning\n",
      "  warnings.warn(\n"
     ]
    },
    {
     "data": {
      "image/png": "[encoded data removed]",
      "text/plain": [
       "<Figure size 640x480 with 1 Axes>"
      ]
     },
     "metadata": {},
     "output_type": "display_data"
    }
   ],
   "source": [
    "# elbow method\n",
    "plt.rcParams['font.sans-serif'] = ['Microsoft JhengHei']\n",
    "def PlotElbow(df):\n",
    "    sse = []\n",
    "    krange = list(range(2,11))\n",
    "    X = df[['外送平台','影音娛樂','網路購物','行動支付','超商']].values\n",
    "    for n in krange:\n",
    "        model = cluster.KMeans(n_clusters=n, random_state=3)\n",
    "        model.fit_predict(X)\n",
    "        cluster_assignments = model.labels_\n",
    "        centers = model.cluster_centers_\n",
    "        sse.append(np.sum((X - centers[cluster_assignments]) ** 2))\n",
    "        #sse.append(model.inertia_)\n",
    "\n",
    "    plt.plot(krange, sse)\n",
    "    plt.xlabel(\"$K$\")\n",
    "    plt.ylabel(\"Sum of Squares\")\n",
    "    plt.savefig('elbow.png')\n",
    "    plt.show()\n",
    "\n",
    "PlotElbow(df)\n",
    "\n",
    "\n",
    "# checkout two-dimension diagram with for loop\n",
    "def PlotCluster(cluster_df, column_names):\n",
    "    for i in column_names[0:len(column_names)-1]:\n",
    "        for j in column_names[(column_names.index(i)+1):len(column_names)]:\n",
    "            plt.scatter(\n",
    "                cluster_df.loc[cluster_df['Cluster'] == 0][i], \n",
    "                cluster_df.loc[cluster_df['Cluster'] == 0][j],\n",
    "                c='red')\n",
    "            plt.scatter(\n",
    "                cluster_df.loc[cluster_df['Cluster'] == 1][i], \n",
    "                cluster_df.loc[cluster_df['Cluster'] == 1][j],\n",
    "                c='blue')\n",
    "            plt.scatter(\n",
    "                cluster_df.loc[cluster_df['Cluster'] == 2][i], \n",
    "                cluster_df.loc[cluster_df['Cluster'] == 2][j],\n",
    "                c='orange')\n",
    "            plt.scatter(\n",
    "                cluster_df.loc[cluster_df['Cluster'] == 3][i], \n",
    "                cluster_df.loc[cluster_df['Cluster'] == 3][j],\n",
    "                c='green')\n",
    "            plt.title(i +'vs.'+ j +'Clusters')\n",
    "            plt.xlabel(i)\n",
    "            plt.ylabel(j)\n",
    "            plt.grid()\n",
    "            plt.savefig(f'{i}vs.{j}plot.png')\n",
    "            plt.show()\n",
    "\n",
    "column_names = ['外送平台','影音娛樂','網路購物','行動支付','超商']\n",
    "PlotCluster(df, column_names=column_names)\n"
   ]
  },
  {
   "cell_type": "code",
   "execution_count": null,
   "id": "f64ad7e0",
   "metadata": {},
   "outputs": [],
   "source": []
  }
 ],
 "metadata": {
  "kernelspec": {
   "display_name": "Python 3 (ipykernel)",
   "language": "python",
   "name": "python3"
  },
  "language_info": {
   "codemirror_mode": {
    "name": "ipython",
    "version": 3
   },
   "file_extension": ".py",
   "mimetype": "text/x-python",
   "name": "python",
   "nbconvert_exporter": "python",
   "pygments_lexer": "ipython3",
   "version": "3.8.15"
  }
 },
 "nbformat": 4,
 "nbformat_minor": 5
}
